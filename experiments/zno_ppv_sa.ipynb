{
 "cells": [
  {
   "cell_type": "code",
   "execution_count": 8,
   "source": [
    "import pandas as pd\n",
    "import numpy as np\n",
    "from sklearn.model_selection import train_test_split\n",
    "from FairnessEvaluator import FairnessEvaluator\n",
    "\n",
    "import matplotlib.pyplot as plt "
   ],
   "outputs": [],
   "metadata": {}
  },
  {
   "cell_type": "code",
   "execution_count": 9,
   "source": [
    "df_raw = pd.read_csv('data/Odata2021File.csv',delimiter=';')"
   ],
   "outputs": [
    {
     "output_type": "stream",
     "name": "stderr",
     "text": [
      "/opt/miniconda3/lib/python3.9/site-packages/IPython/core/interactiveshell.py:3441: DtypeWarning: Columns (117,118,119,121,123,124,125,126,137,138,139,141,143,144,145,146) have mixed types.Specify dtype option on import or set low_memory=False.\n",
      "  exec(code_obj, self.user_global_ns, self.user_ns)\n"
     ]
    }
   ],
   "metadata": {}
  },
  {
   "cell_type": "code",
   "execution_count": 10,
   "source": [
    "df = df_raw.copy()"
   ],
   "outputs": [],
   "metadata": {}
  },
  {
   "cell_type": "code",
   "execution_count": 19,
   "source": [
    "test_list = ['Ukr', 'Hist', 'Math', 'Phys', 'Chem', 'Geo', 'Eng', 'Deu'] #Fra, Spa\n",
    "\n",
    "results_columns = ['dataset','sample_size','overall_prev','sensitive_attr','group_dist','group_prev','max_group_prev_diff']\n",
    "results_df = pd.DataFrame(\n",
    "            columns=(results_columns)\n",
    ")\n",
    "\n",
    "fo_results = {}\n",
    "\n",
    "def maxDiff(a):\n",
    "    a.sort()\n",
    "    vmin = a[0]\n",
    "    dmax = 0\n",
    "    for i in range(len(a)):\n",
    "        if (a[i] < vmin):\n",
    "            vmin = a[i]\n",
    "        elif (a[i] - vmin > dmax):\n",
    "            dmax = a[i] - vmin\n",
    "    return dmax\n",
    "\n",
    "# New codes:\n",
    "# 0 - Passed\n",
    "# 1 - Failed\n",
    "\n",
    "test_results_recoder = {'Зараховано': 0,\n",
    "                        'Не подолав поріг': 1}\n",
    "\n",
    "# New codes:\n",
    "# 0 - Male\n",
    "# 1 - Female\n",
    "\n",
    "sex_recoder = {'чоловіча': 0,\n",
    "               'жіноча': 1}\n",
    "\n",
    "sex_names = {0: 'Male',\n",
    "             1: 'Female'}\n",
    "\n",
    "# New codes:\n",
    "# 0 - Rural\n",
    "# 1 - Urban\n",
    "\n",
    "territory_recoder = {'місто':1,\n",
    "                     'селище, село':0,\n",
    "                     'селище міського типу':0}\n",
    "\n",
    "territory_names = {0: 'Rural',\n",
    "                   1: 'Urban'}\n",
    "\n",
    "sample_dfs = {}\n",
    "\n",
    "for test in test_list:\n",
    "    print(f\"DEBUG: Working on {test}\")\n",
    "    dataset_name = test\n",
    "\n",
    "    # Dict for new record\n",
    "    r = {}\n",
    "    r['dataset'] = test\n",
    "\n",
    "    # Clear df_temp\n",
    "    df_temp = None\n",
    "\n",
    "    # Load test data into df_temp\n",
    "    df_temp = df[df[test+'TestStatus'].notnull()]\n",
    "\n",
    "    # Drop candidates who didn't take the exam\n",
    "    df_temp = df_temp[df_temp[test+'TestStatus'] != 'Не з’явився']\n",
    "    df_temp = df_temp[df_temp[test+'TestStatus'] != 'Не обрано 100-200']\n",
    "    df_temp = df_temp[df_temp[test+'TestStatus'] != 'Анульовано']\n",
    "\n",
    "    # Recode sex and race\n",
    "    df_temp['sex'] = df_temp['SexTypeName'].map(sex_recoder)\n",
    "    df_temp['territory'] = df_temp['TerTypeName'].map(territory_recoder)\n",
    "    df_temp['label'] = df_temp[test+'TestStatus'].map(test_results_recoder)\n",
    "    df_temp = df_temp.filter(items=['sex','territory','label'])\n",
    "\n",
    "    increase_test_size = True\n",
    "    test_size = 0.005\n",
    "    while increase_test_size:\n",
    "        if df_temp.shape[0]*test_size < 1000:\n",
    "            test_size+=0.005\n",
    "        else:\n",
    "            increase_test_size = False\n",
    "    \n",
    "    _, sample_df = train_test_split(df_temp, test_size=test_size, stratify=df_temp[['territory','sex','label']],random_state=42)\n",
    "    sample_df = sample_df.reset_index()\n",
    "    #sample_df.to_csv('for_lucius/eie_deu_sample.csv',index=None)\n",
    "\n",
    "    sample_dfs[dataset_name] = sample_df\n",
    "\n",
    "    r['sample_size'] = sample_df.shape[0]\n",
    "    r['overall_prev'] = round(sample_df['label'].value_counts(normalize=True)[1]*100, 2)\n",
    "\n",
    "    sample_df['sex_names'] = sample_df['sex'].map(sex_names)\n",
    "    sample_df['territory_names'] = sample_df['territory'].map(territory_names)    \n",
    "\n",
    "    # Get sex dist\n",
    "    sex_dist_dict = {}\n",
    "    sex_dist = sample_df['sex_names'].value_counts(normalize=True)\n",
    "    for x in list(sample_df['sex_names'].unique()):\n",
    "        sex_dist_dict[x] = round(sex_dist[x]*100,2)\n",
    "\n",
    "    # Get sex group prev\n",
    "    sex_prev_dict = {}\n",
    "    sex_prev = pd.crosstab(sample_df['sex_names'], sample_df['label'], normalize='index')\n",
    "    for x in list(sample_df['sex_names'].unique()):\n",
    "        sex_prev_dict[x] = round(sex_prev[1][x]*100,2)\n",
    "\n",
    "    sex_max_prev_diff = round(maxDiff(list(sex_prev_dict.values())),2)\n",
    "\n",
    "    r['sensitive_attr'] = 'sex'\n",
    "    r['group_dist'] = sex_dist_dict\n",
    "    r['group_prev'] = sex_prev_dict\n",
    "    r['max_group_prev_diff'] = sex_max_prev_diff\n",
    "\n",
    "    results_df = results_df.append(r, ignore_index=True)\n",
    "\n",
    "    #print(\"Sex: \")\n",
    "    fo = FairnessEvaluator(sample_df,\n",
    "                        'label',\n",
    "                        ['sex'],\n",
    "                        metrics=['tpr','fpr','fnr'],\n",
    "                        metrics_to_plot=['prec','fpr','fnr'],\n",
    "                        fairness_bounds=[0.8,1.2],\n",
    "                        fully_constrained=False,\n",
    "                        #metric_fairness_bounds={'tpr': [0.95,1.05]},\n",
    "                        #intersectionality=None,\n",
    "                        precision_ub = 0.7#,\n",
    "                        #disparity_ratio=True,\n",
    "                        #epsilon=0.05\n",
    "                        )\n",
    "\n",
    "    fo.evaluate()\n",
    "    fo.plot()\n",
    "    plt.title(f'{dataset_name} - Sex', y=2.4)\n",
    "\n",
    "    key_temp = f'{dataset_name}_sex'\n",
    "    fo_results[key_temp] = fo.results_df\n",
    "\n",
    "    # Get territory dist\n",
    "    territory_dist_dict = {}\n",
    "    territory_dist = sample_df['territory_names'].value_counts(normalize=True)\n",
    "    for x in list(sample_df['territory_names'].unique()):\n",
    "        territory_dist_dict[x] = round(territory_dist[x]*100,2)\n",
    "\n",
    "    # Get race group prev\n",
    "    territory_prev_dict = {}\n",
    "    territory_prev = pd.crosstab(sample_df['territory_names'], sample_df['label'], normalize='index')\n",
    "    for x in list(sample_df['territory_names'].unique()):\n",
    "        territory_prev_dict[x] = round(territory_prev[1][x]*100,2)\n",
    "\n",
    "    territory_max_prev_diff = round(maxDiff(list(territory_prev_dict.values())),2)\n",
    "\n",
    "    r['sensitive_attr'] = 'territory'\n",
    "    r['group_dist'] = territory_dist_dict\n",
    "    r['group_prev'] = territory_prev_dict\n",
    "    r['max_group_prev_diff'] = territory_max_prev_diff\n",
    "\n",
    "    results_df = results_df.append(r, ignore_index=True)\n",
    "\n",
    "    fo = FairnessEvaluator(sample_df,\n",
    "                        'label',\n",
    "                        ['territory'],\n",
    "                        metrics=['tpr','fpr','fnr'],\n",
    "                        metrics_to_plot=['prec','fpr','fnr'],\n",
    "                        fairness_bounds=[0.8,1.2],\n",
    "                        #metric_fairness_bounds={'tpr': [0.999,1.001]},\n",
    "                        fully_constrained=False,\n",
    "                        #intersectionality=None,\n",
    "                        precision_ub = 0.7,\n",
    "                        #disparity_ratio=True,\n",
    "                        #epsilon=0.03\n",
    "                        )\n",
    "    fo.evaluate()\n",
    "    fo.plot()\n",
    "    plt.title(f'{dataset_name} - Territory', y=2.4)\n",
    "\n",
    "    key_temp = f'{dataset_name}_territory'\n",
    "    fo_results[key_temp] = fo.results_df"
   ],
   "outputs": [
    {
     "output_type": "stream",
     "name": "stdout",
     "text": [
      "DEBUG: Working on Ukr\n"
     ]
    },
    {
     "output_type": "error",
     "ename": "KeyboardInterrupt",
     "evalue": "",
     "traceback": [
      "\u001b[0;31m---------------------------------------------------------------------------\u001b[0m",
      "\u001b[0;31mKeyboardInterrupt\u001b[0m                         Traceback (most recent call last)",
      "\u001b[0;32m<ipython-input-19-da276d3ccc59>\u001b[0m in \u001b[0;36m<module>\u001b[0;34m\u001b[0m\n\u001b[1;32m    173\u001b[0m                         \u001b[0;31m#epsilon=0.03\u001b[0m\u001b[0;34m\u001b[0m\u001b[0;34m\u001b[0m\u001b[0;34m\u001b[0m\u001b[0m\n\u001b[1;32m    174\u001b[0m                         )\n\u001b[0;32m--> 175\u001b[0;31m     \u001b[0mfo\u001b[0m\u001b[0;34m.\u001b[0m\u001b[0mevaluate\u001b[0m\u001b[0;34m(\u001b[0m\u001b[0;34m)\u001b[0m\u001b[0;34m\u001b[0m\u001b[0;34m\u001b[0m\u001b[0m\n\u001b[0m\u001b[1;32m    176\u001b[0m     \u001b[0mfo\u001b[0m\u001b[0;34m.\u001b[0m\u001b[0mplot\u001b[0m\u001b[0;34m(\u001b[0m\u001b[0;34m)\u001b[0m\u001b[0;34m\u001b[0m\u001b[0;34m\u001b[0m\u001b[0m\n\u001b[1;32m    177\u001b[0m     \u001b[0mplt\u001b[0m\u001b[0;34m.\u001b[0m\u001b[0mtitle\u001b[0m\u001b[0;34m(\u001b[0m\u001b[0;34mf'{dataset_name} - Territory'\u001b[0m\u001b[0;34m,\u001b[0m \u001b[0my\u001b[0m\u001b[0;34m=\u001b[0m\u001b[0;36m2.4\u001b[0m\u001b[0;34m)\u001b[0m\u001b[0;34m\u001b[0m\u001b[0;34m\u001b[0m\u001b[0m\n",
      "\u001b[0;32m/opt/miniconda3/lib/python3.9/site-packages/FairnessEvaluator/evaluator.py\u001b[0m in \u001b[0;36mevaluate\u001b[0;34m(self, k_range, k_step)\u001b[0m\n\u001b[1;32m    135\u001b[0m \u001b[0;34m\u001b[0m\u001b[0m\n\u001b[1;32m    136\u001b[0m             \u001b[0;31m# constrained_model\u001b[0m\u001b[0;34m\u001b[0m\u001b[0;34m\u001b[0m\u001b[0;34m\u001b[0m\u001b[0m\n\u001b[0;32m--> 137\u001b[0;31m             \u001b[0mfinal_list\u001b[0m\u001b[0;34m,\u001b[0m \u001b[0mmodel\u001b[0m\u001b[0;34m,\u001b[0m \u001b[0moptimal\u001b[0m \u001b[0;34m=\u001b[0m \u001b[0mself\u001b[0m\u001b[0;34m.\u001b[0m\u001b[0m__runNewModel\u001b[0m\u001b[0;34m(\u001b[0m\u001b[0mself\u001b[0m\u001b[0;34m.\u001b[0m\u001b[0mprotected_attrs\u001b[0m\u001b[0;34m[\u001b[0m\u001b[0;36m0\u001b[0m\u001b[0;34m]\u001b[0m\u001b[0;34m,\u001b[0m \u001b[0mk\u001b[0m\u001b[0;34m)\u001b[0m\u001b[0;34m\u001b[0m\u001b[0;34m\u001b[0m\u001b[0m\n\u001b[0m\u001b[1;32m    138\u001b[0m \u001b[0;34m\u001b[0m\u001b[0m\n\u001b[1;32m    139\u001b[0m             \u001b[0;32mif\u001b[0m \u001b[0moptimal\u001b[0m\u001b[0;34m:\u001b[0m\u001b[0;34m\u001b[0m\u001b[0;34m\u001b[0m\u001b[0m\n",
      "\u001b[0;32m/opt/miniconda3/lib/python3.9/site-packages/FairnessEvaluator/evaluator.py\u001b[0m in \u001b[0;36m__runNewModel\u001b[0;34m(self, attr, k)\u001b[0m\n\u001b[1;32m    363\u001b[0m                 \u001b[0mgroups\u001b[0m\u001b[0;34m,\u001b[0m \u001b[0mgroups_n\u001b[0m\u001b[0;34m,\u001b[0m \u001b[0mgroups_positives_n\u001b[0m\u001b[0;34m,\u001b[0m \u001b[0mgroups_negatives_n\u001b[0m \u001b[0;34m=\u001b[0m \u001b[0mself\u001b[0m\u001b[0;34m.\u001b[0m\u001b[0m__createGroupVariables\u001b[0m\u001b[0;34m(\u001b[0m\u001b[0mattr\u001b[0m\u001b[0;34m)\u001b[0m\u001b[0;34m\u001b[0m\u001b[0;34m\u001b[0m\u001b[0m\n\u001b[1;32m    364\u001b[0m \u001b[0;34m\u001b[0m\u001b[0m\n\u001b[0;32m--> 365\u001b[0;31m                 \u001b[0mobj\u001b[0m \u001b[0;34m=\u001b[0m \u001b[0msum\u001b[0m\u001b[0;34m(\u001b[0m\u001b[0mgroups\u001b[0m\u001b[0;34m[\u001b[0m\u001b[0mg_x\u001b[0m\u001b[0;34m]\u001b[0m\u001b[0;34m[\u001b[0m\u001b[0mi\u001b[0m\u001b[0;34m]\u001b[0m \u001b[0;34m*\u001b[0m \u001b[0mx\u001b[0m\u001b[0;34m[\u001b[0m\u001b[0mi\u001b[0m\u001b[0;34m]\u001b[0m \u001b[0;32mfor\u001b[0m \u001b[0mi\u001b[0m \u001b[0;32min\u001b[0m \u001b[0mself\u001b[0m\u001b[0;34m.\u001b[0m\u001b[0mentities\u001b[0m\u001b[0;34m)\u001b[0m\u001b[0;34m\u001b[0m\u001b[0;34m\u001b[0m\u001b[0m\n\u001b[0m\u001b[1;32m    366\u001b[0m                 \u001b[0mmodel\u001b[0m\u001b[0;34m.\u001b[0m\u001b[0msetObjective\u001b[0m\u001b[0;34m(\u001b[0m\u001b[0mobj\u001b[0m\u001b[0;34m,\u001b[0m\u001b[0mtype_obj\u001b[0m\u001b[0;34m)\u001b[0m\u001b[0;34m\u001b[0m\u001b[0;34m\u001b[0m\u001b[0m\n\u001b[1;32m    367\u001b[0m                 \u001b[0mmodel\u001b[0m\u001b[0;34m.\u001b[0m\u001b[0maddConstr\u001b[0m\u001b[0;34m(\u001b[0m\u001b[0msum\u001b[0m\u001b[0;34m(\u001b[0m\u001b[0mx\u001b[0m\u001b[0;34m[\u001b[0m\u001b[0mi\u001b[0m\u001b[0;34m]\u001b[0m \u001b[0;32mfor\u001b[0m \u001b[0mi\u001b[0m \u001b[0;32min\u001b[0m \u001b[0mself\u001b[0m\u001b[0;34m.\u001b[0m\u001b[0mentities\u001b[0m\u001b[0;34m)\u001b[0m \u001b[0;34m==\u001b[0m \u001b[0mk\u001b[0m\u001b[0;34m,\u001b[0m\u001b[0;34m'k-list'\u001b[0m\u001b[0;34m)\u001b[0m\u001b[0;34m\u001b[0m\u001b[0;34m\u001b[0m\u001b[0m\n",
      "\u001b[0;32m/opt/miniconda3/lib/python3.9/site-packages/FairnessEvaluator/evaluator.py\u001b[0m in \u001b[0;36m<genexpr>\u001b[0;34m(.0)\u001b[0m\n\u001b[1;32m    363\u001b[0m                 \u001b[0mgroups\u001b[0m\u001b[0;34m,\u001b[0m \u001b[0mgroups_n\u001b[0m\u001b[0;34m,\u001b[0m \u001b[0mgroups_positives_n\u001b[0m\u001b[0;34m,\u001b[0m \u001b[0mgroups_negatives_n\u001b[0m \u001b[0;34m=\u001b[0m \u001b[0mself\u001b[0m\u001b[0;34m.\u001b[0m\u001b[0m__createGroupVariables\u001b[0m\u001b[0;34m(\u001b[0m\u001b[0mattr\u001b[0m\u001b[0;34m)\u001b[0m\u001b[0;34m\u001b[0m\u001b[0;34m\u001b[0m\u001b[0m\n\u001b[1;32m    364\u001b[0m \u001b[0;34m\u001b[0m\u001b[0m\n\u001b[0;32m--> 365\u001b[0;31m                 \u001b[0mobj\u001b[0m \u001b[0;34m=\u001b[0m \u001b[0msum\u001b[0m\u001b[0;34m(\u001b[0m\u001b[0mgroups\u001b[0m\u001b[0;34m[\u001b[0m\u001b[0mg_x\u001b[0m\u001b[0;34m]\u001b[0m\u001b[0;34m[\u001b[0m\u001b[0mi\u001b[0m\u001b[0;34m]\u001b[0m \u001b[0;34m*\u001b[0m \u001b[0mx\u001b[0m\u001b[0;34m[\u001b[0m\u001b[0mi\u001b[0m\u001b[0;34m]\u001b[0m \u001b[0;32mfor\u001b[0m \u001b[0mi\u001b[0m \u001b[0;32min\u001b[0m \u001b[0mself\u001b[0m\u001b[0;34m.\u001b[0m\u001b[0mentities\u001b[0m\u001b[0;34m)\u001b[0m\u001b[0;34m\u001b[0m\u001b[0;34m\u001b[0m\u001b[0m\n\u001b[0m\u001b[1;32m    366\u001b[0m                 \u001b[0mmodel\u001b[0m\u001b[0;34m.\u001b[0m\u001b[0msetObjective\u001b[0m\u001b[0;34m(\u001b[0m\u001b[0mobj\u001b[0m\u001b[0;34m,\u001b[0m\u001b[0mtype_obj\u001b[0m\u001b[0;34m)\u001b[0m\u001b[0;34m\u001b[0m\u001b[0;34m\u001b[0m\u001b[0m\n\u001b[1;32m    367\u001b[0m                 \u001b[0mmodel\u001b[0m\u001b[0;34m.\u001b[0m\u001b[0maddConstr\u001b[0m\u001b[0;34m(\u001b[0m\u001b[0msum\u001b[0m\u001b[0;34m(\u001b[0m\u001b[0mx\u001b[0m\u001b[0;34m[\u001b[0m\u001b[0mi\u001b[0m\u001b[0;34m]\u001b[0m \u001b[0;32mfor\u001b[0m \u001b[0mi\u001b[0m \u001b[0;32min\u001b[0m \u001b[0mself\u001b[0m\u001b[0;34m.\u001b[0m\u001b[0mentities\u001b[0m\u001b[0;34m)\u001b[0m \u001b[0;34m==\u001b[0m \u001b[0mk\u001b[0m\u001b[0;34m,\u001b[0m\u001b[0;34m'k-list'\u001b[0m\u001b[0;34m)\u001b[0m\u001b[0;34m\u001b[0m\u001b[0;34m\u001b[0m\u001b[0m\n",
      "\u001b[0;31mKeyboardInterrupt\u001b[0m: "
     ]
    },
    {
     "output_type": "display_data",
     "data": {
      "image/png": "[encoded data removed]",
      "text/plain": [
       "<Figure size 432x288 with 2 Axes>"
      ]
     },
     "metadata": {
      "needs_background": "light"
     }
    }
   ],
   "metadata": {}
  },
  {
   "cell_type": "code",
   "execution_count": 16,
   "source": [
    "#fo_results['Deu_territory'].filter(items=['k_perc','group_confusion_matrix']).to_csv('for_lucius/territory_k_lists.csv',index=None)"
   ],
   "outputs": [],
   "metadata": {}
  },
  {
   "cell_type": "code",
   "execution_count": null,
   "source": [
    "#results_df['prev_ratio'] = results_df.apply(lambda row: (row['max_group_prev_diff'] / row['overall_prev']), axis=1)\n",
    "results_df"
   ],
   "outputs": [],
   "metadata": {}
  },
  {
   "cell_type": "code",
   "execution_count": null,
   "source": [
    "results_df.to_csv('results/zno-results.csv',index=False)"
   ],
   "outputs": [],
   "metadata": {}
  }
 ],
 "metadata": {
  "orig_nbformat": 4,
  "language_info": {
   "name": "python",
   "version": "3.9.5",
   "mimetype": "text/x-python",
   "codemirror_mode": {
    "name": "ipython",
    "version": 3
   },
   "pygments_lexer": "ipython3",
   "nbconvert_exporter": "python",
   "file_extension": ".py"
  },
  "kernelspec": {
   "name": "python3",
   "display_name": "Python 3.9.5 64-bit ('base': conda)"
  },
  "interpreter": {
   "hash": "569d6b7e9215e11aba41c6454007e5c1b78bad7df09dab765d8cf00362c40f03"
  }
 },
 "nbformat": 4,
 "nbformat_minor": 2
}