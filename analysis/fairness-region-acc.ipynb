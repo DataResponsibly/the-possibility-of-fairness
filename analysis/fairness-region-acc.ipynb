{
 "cells": [
  {
   "cell_type": "code",
   "execution_count": null,
   "source": [
    "import matplotlib as mpl\n",
    "from mpl_toolkits.axes_grid1 import make_axes_locatable\n",
    "import numpy as np\n",
    "import matplotlib.pyplot as plt\n",
    "import seaborn as sns\n",
    "import pandas as pd\n",
    "from itertools import product\n",
    "from tqdm.auto import tqdm\n",
    "from scipy.stats import gmean\n",
    "import plotly.express as px"
   ],
   "outputs": [],
   "metadata": {}
  },
  {
   "cell_type": "code",
   "execution_count": null,
   "source": [
    "base_rate_g1 = 0.3\n",
    "base_rate_g2 = 0.5\n",
    "\n",
    "plt.style.use('seaborn-whitegrid')\n",
    "fig = plt.figure(figsize=(8, 6), dpi=150)\n",
    "ax = plt.axes()\n",
    "ax.set(xlim=(0, 1), ylim=(0, 1),\n",
    "       xlabel='FPR', ylabel='FNR')\n",
    "       #title='Fairness window (ACC) with ε bounds ±0.01, base rate delta = '+ str(np.round_(base_rate_g1-base_rate_g2, 3)));\n",
    "\n",
    "eps_R = base_rate_g1 - base_rate_g2\n",
    "p = base_rate_g2\n",
    "epsilon = 0.05\n",
    "epsilon_steps = 30\n",
    "# allow the fairness window to range over certain values\n",
    "eps_P_range = np.arange((-1*epsilon), epsilon, (epsilon/(epsilon_steps/2))) #np.concatenate([np.arange(-0.010,0.0,0.001), np.arange(0.001,0.011,0.001)])\n",
    "eps_N_range = np.arange((-1*epsilon), epsilon, (epsilon/(epsilon_steps/2))) #np.concatenate([np.arange(-0.010,0.0,0.001), np.arange(0.001,0.011,0.001)])\n",
    "eps_alpha_range = np.arange((-1*epsilon), epsilon, (epsilon/(epsilon_steps/2))) #np.concatenate([np.arange(-0.010,0.0,0.001), np.arange(0.001,0.011,0.001)])\n",
    "eps_j_range = np.arange((-1*epsilon), epsilon, (epsilon/(epsilon_steps/2))) #np.concatenate([np.arange(-0.010,0.0,0.001), np.arange(0.001,0.011,0.001)])\n",
    "\n",
    "for eps_P in eps_P_range:\n",
    "  for eps_N in eps_N_range:\n",
    "    for eps_alpha in eps_alpha_range:\n",
    "      # eps_P = 0\n",
    "      # eps_N = 0\n",
    "      # eps_alpha = 0\n",
    "      c = ((eps_alpha + eps_P - p * (eps_P - eps_N)) / eps_R) + eps_N - eps_P\n",
    "      y = np.linspace(0, 1, 100)\n",
    "      ax.plot(y, c + y, color = 'blue')"
   ],
   "outputs": [],
   "metadata": {}
  }
 ],
 "metadata": {
  "orig_nbformat": 4,
  "language_info": {
   "name": "python",
   "version": "3.9.5",
   "mimetype": "text/x-python",
   "codemirror_mode": {
    "name": "ipython",
    "version": 3
   },
   "pygments_lexer": "ipython3",
   "nbconvert_exporter": "python",
   "file_extension": ".py"
  },
  "kernelspec": {
   "name": "python3",
   "display_name": "Python 3.9.5 64-bit ('base': conda)"
  },
  "interpreter": {
   "hash": "569d6b7e9215e11aba41c6454007e5c1b78bad7df09dab765d8cf00362c40f03"
  }
 },
 "nbformat": 4,
 "nbformat_minor": 2
}